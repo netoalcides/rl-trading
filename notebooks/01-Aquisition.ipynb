{
 "cells": [
  {
   "cell_type": "markdown",
   "id": "b7438cd3-e46c-435d-980b-abefe07eb937",
   "metadata": {},
   "source": [
    "# Data Aquisition"
   ]
  },
  {
   "cell_type": "markdown",
   "id": "59271c53-24ca-40f5-9d16-4a247486b4ef",
   "metadata": {},
   "source": [
    "## Modules"
   ]
  },
  {
   "cell_type": "code",
   "execution_count": 1,
   "id": "01466475-7f3f-4348-9d1f-2610ecabb894",
   "metadata": {},
   "outputs": [],
   "source": [
    "import yfinance as yf\n",
    "import pandas as pd"
   ]
  },
  {
   "cell_type": "markdown",
   "id": "4e89e3d1-f14c-4b03-9f84-234ca2939ad1",
   "metadata": {},
   "source": [
    "## Tickers"
   ]
  },
  {
   "cell_type": "code",
   "execution_count": 2,
   "id": "b56df801-0e1a-4472-8203-922168769eea",
   "metadata": {},
   "outputs": [],
   "source": [
    "tickers = ['^BVSP', 'PETR4.SA', 'VALE3.SA']"
   ]
  },
  {
   "cell_type": "markdown",
   "id": "d42926e4-57db-499e-851b-fce543993b61",
   "metadata": {},
   "source": [
    "## Data"
   ]
  },
  {
   "cell_type": "code",
   "execution_count": 3,
   "id": "9d785f73-e649-4871-8631-25fdaf3bf2f3",
   "metadata": {},
   "outputs": [],
   "source": [
    "def get_data(tickers, start_date, end_date):\n",
    "    stock_data = {}\n",
    "    for ticker in tickers:\n",
    "        df = yf.download(ticker, start=start_date, end=end_date)\n",
    "        df.columns = df.columns.droplevel(1)\n",
    "        stock_data[ticker] = df\n",
    "    return stock_data"
   ]
  },
  {
   "cell_type": "code",
   "execution_count": 4,
   "id": "c25ddf98-08f8-49b0-ab1a-f94660979a20",
   "metadata": {},
   "outputs": [
    {
     "name": "stderr",
     "output_type": "stream",
     "text": [
      "[*********************100%***********************]  1 of 1 completed\n",
      "[*********************100%***********************]  1 of 1 completed\n",
      "[*********************100%***********************]  1 of 1 completed\n"
     ]
    }
   ],
   "source": [
    "start_date = \"2020-01-01\"\n",
    "end_date = \"2024-10-31\"\n",
    "stock_data = get_data(tickers, start_date, end_date)"
   ]
  },
  {
   "cell_type": "code",
   "execution_count": 5,
   "id": "2159c6f1-3e04-4eee-94c2-0df3989ed25d",
   "metadata": {},
   "outputs": [],
   "source": [
    "for tick, df in stock_data.items():\n",
    "    df.to_csv(f'../data/{tick}.csv')"
   ]
  },
  {
   "cell_type": "code",
   "execution_count": null,
   "id": "df8cdcc7-a9ee-4c26-a876-255f373c8f20",
   "metadata": {},
   "outputs": [],
   "source": []
  },
  {
   "cell_type": "code",
   "execution_count": null,
   "id": "085eafb8-847e-4aab-a2f8-3ea606572d02",
   "metadata": {},
   "outputs": [],
   "source": []
  }
 ],
 "metadata": {
  "kernelspec": {
   "display_name": "Python 3 (ipykernel)",
   "language": "python",
   "name": "python3"
  },
  "language_info": {
   "codemirror_mode": {
    "name": "ipython",
    "version": 3
   },
   "file_extension": ".py",
   "mimetype": "text/x-python",
   "name": "python",
   "nbconvert_exporter": "python",
   "pygments_lexer": "ipython3",
   "version": "3.12.3"
  }
 },
 "nbformat": 4,
 "nbformat_minor": 5
}
